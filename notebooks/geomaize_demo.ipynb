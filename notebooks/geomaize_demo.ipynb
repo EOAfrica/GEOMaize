{
 "cells": [
  {
   "cell_type": "markdown",
   "metadata": {},
   "source": [
    "# Data Extractions from OpenEO\n",
    "\n",
    "To run the extractions, you need an account in the [Copernicus Data Space Ecosystem (CDSE)](https://dataspace.copernicus.eu/)."
   ]
  },
  {
   "cell_type": "code",
   "execution_count": null,
   "metadata": {},
   "outputs": [],
   "source": [
    "!pip install git+https://github.com/WorldCereal/prometheo.git --quiet\n",
    "!pip install git+https://github.com/ScaleAGData/scaleag-vito.git --quiet"
   ]
  },
  {
   "cell_type": "code",
   "execution_count": 1,
   "metadata": {},
   "outputs": [],
   "source": [
    "from pathlib import Path\n",
    "import geopandas as gpd\n",
    "from loguru import logger\n",
    "from scaleagdata_vito.presto.datasets_prometheo import ScaleAgDataset\n",
    "from scaleagdata_vito.openeo.extract_sample_scaleag import generate_input_for_extractions, extract\n",
    "from scaleagdata_vito.presto.presto_df import load_dataset\n",
    "from scaleagdata_vito.presto.utils import train_test_val_split, finetune_on_task, load_finetuned_model, evaluate_finetuned_model, get_pretrained_model_url\n",
    "from scaleagdata_vito.presto.inference import PrestoPredictor, reshape_result, plot_results\n",
    "from scaleagdata_vito.utils.map import ui_map\n",
    "from scaleagdata_vito.utils.dateslider import date_slider\n",
    "from scaleagdata_vito.openeo.extract_sample_scaleag import collect_inputs_for_inference"
   ]
  },
  {
   "cell_type": "markdown",
   "metadata": {},
   "source": [
    "### Before we start...\n",
    "\n",
    "**Check your data!** Investigate validity of geometries uniqueness of sample IDs, presence of outliers and so on before starting the extraction. Achieving good performance making use of a limited amount of data is a challening task per se. Therefore, **the quality of your data will greatly impact your final results.**\n",
    "\n",
    "Data requirements:\n",
    "- Points or Polygons (will be aggregated in points)\n",
    "- Lat-Lon (crs:4326) \n",
    "- Format: parquet, GeoJSON, shapefile, GPKG\n",
    "For each geometry:\n",
    "- Date (if available) \n",
    "- Unique ID\n",
    "- Annotations\n",
    "\n",
    "Good practice:\n",
    "\n",
    "Remove polygons close to borders (e.g. apply buffer) to ensure data are contained in the field\n",
    "If the annotations are accurate, point geometries should be preferred. However, especially in regression tasks (i.e., continuous output values) such us yield estimation the target values might be noisy. In that case, we recommend subdividing the polygons in subfields of 20m x 20m (to cover more measurements) and computing the median yield for a smoother and more reliable target"
   ]
  },
  {
   "cell_type": "markdown",
   "metadata": {},
   "source": [
    "##### Assess data correctness before launching the OpenEO jobs \n",
    "You can run some checks on your input file to make sure they are suitable to run the extractions successfully. In particular, it is important to check the validity of the geometries and, to also have a column containing a unique id for each sample. Do these checks beforehand by running the first section of the notebook `data_investigation.ipynb`\n",
    "\n",
    "##### Requirements for running the extractions\n",
    "- Account in [Copernicus Data Space Ecosystem (CDSE)](https://dataspace.copernicus.eu/). You can sign up for free and have a monthly availability of 10000 credits.\n",
    "- A dataset with valid geometries (Points or Polygons) in lat-lon projection.\n",
    "- Preferably a dataset with unique IDs per sample \n",
    "- A labelled dataset. Not required for the extraction process, but for the following fine-tuning steps.\n",
    "\n",
    "##### EO data extractions\n",
    "In this first step, we extract for each sample in your dataset the required EO time series from CDSE using OpenEO.\n",
    "For running the job, the user should indicate the following job_dictionary fields:\n",
    "\n",
    "```python\n",
    "    job_params = dict(\n",
    "        output_folder=..., # where to save the extracted dataset\n",
    "        input_df=..., # input georeferenced dataset to run the extractions for \n",
    "        start_date=..., # string indicating from which date to extract data  \n",
    "        end_date=..., # string indicating until which date to extract the data \n",
    "        unique_id_column=..., # name of the column in the input_df containing the unique ID of the samples  \n",
    "        composite_window=..., # \"month\" or \"dekad\" are supported. Default is \"dekad\"\n",
    "    )\n",
    "```\n",
    "in particular:\n",
    "- If the `date` information associated with the label is provided, the `start_date` of the time-series is automatically set to 9 months before the date, whereas the `end_date` is set to 9 months after. If `date` is not available, the user needs to manually indicate the desired `start_date` and `end_date` for the extractions. **The indicated period should cover 1 year**. \n",
    "- `composite_window` indicates the time-series granularity, which can be dekadal or monthly. \n",
    "  - `dekad`: each time step in the extracted time series corresponds to a mean-compositing operation on 10-days acquisitions. Accordingly with the start and end date, each month will be covered by 3 time steps which, by default, correspond to the 1st, 11th and 21th of the month. \n",
    "  - `month`: each time step in the extracted time series corresponds to a mean-compositing operation on 30-days acquisitions. Each month will be covered by 1 time step which, by default, correspond to the 1st of the month.\n",
    "\n",
    "The following decadal/monthly time series will be extracted for the indicated time range:\n",
    "\n",
    "- Sentinel-2 L2A data (all bands)\n",
    "- Sentinel-1 VH and VV\n",
    "- Average air temperature and precipitation sum derived from AgERA5\n",
    "- Slope and elevation from Copernicus DEM\n",
    "\n",
    "Presto accepts 1D time-series. Therefore, if Polygons are provided for the extractions, the latter are spatially aggregated in points which will correspond to the centroid lat lon geolocation."
   ]
  },
  {
   "cell_type": "markdown",
   "metadata": {},
   "source": [
    "### 1) Run extractions"
   ]
  },
  {
   "cell_type": "code",
   "execution_count": 2,
   "metadata": {},
   "outputs": [],
   "source": [
    "# Dataset Parameters\n",
    "start_date=\"2023-01-01\"\n",
    "end_date=\"2023-12-31\"\n",
    "composite_window=\"dekad\"\n",
    "unique_id_column=\"Field_ID\"\n",
    "input_df=\"/home/giorgia/Private/data/geomaize/correct/Maize_2023_valid.geojson\"\n",
    "output_folder=\"/home/giorgia/Private/data/geomaize/new_extractions\""
   ]
  },
  {
   "cell_type": "code",
   "execution_count": 22,
   "metadata": {},
   "outputs": [
    {
     "data": {
      "text/html": [
       "<div>\n",
       "<style scoped>\n",
       "    .dataframe tbody tr th:only-of-type {\n",
       "        vertical-align: middle;\n",
       "    }\n",
       "\n",
       "    .dataframe tbody tr th {\n",
       "        vertical-align: top;\n",
       "    }\n",
       "\n",
       "    .dataframe thead th {\n",
       "        text-align: right;\n",
       "    }\n",
       "</style>\n",
       "<table border=\"1\" class=\"dataframe\">\n",
       "  <thead>\n",
       "    <tr style=\"text-align: right;\">\n",
       "      <th></th>\n",
       "      <th>Crop</th>\n",
       "      <th>Field_ID</th>\n",
       "      <th>COMMUNITY</th>\n",
       "      <th>DISTRICT</th>\n",
       "      <th>REGION</th>\n",
       "      <th>Season</th>\n",
       "      <th>Yield kg/H</th>\n",
       "      <th>Area(acre)</th>\n",
       "      <th>geometry</th>\n",
       "    </tr>\n",
       "  </thead>\n",
       "  <tbody>\n",
       "    <tr>\n",
       "      <th>0</th>\n",
       "      <td>Maize</td>\n",
       "      <td>5012LAB</td>\n",
       "      <td>LABARIGA</td>\n",
       "      <td>TAMALE</td>\n",
       "      <td>NORTHERN</td>\n",
       "      <td>July-October</td>\n",
       "      <td>927.0</td>\n",
       "      <td>3.06694</td>\n",
       "      <td>POLYGON Z ((-0.59936 9.42675 193.39733, -0.599...</td>\n",
       "    </tr>\n",
       "    <tr>\n",
       "      <th>1</th>\n",
       "      <td>Maize</td>\n",
       "      <td>5057PAG</td>\n",
       "      <td>Pagazaa</td>\n",
       "      <td>Tamale</td>\n",
       "      <td>NOTHERN</td>\n",
       "      <td>July-October</td>\n",
       "      <td>3245.7</td>\n",
       "      <td>1.36539</td>\n",
       "      <td>POLYGON Z ((-0.70847 9.37734 144.6005, -0.7085...</td>\n",
       "    </tr>\n",
       "    <tr>\n",
       "      <th>2</th>\n",
       "      <td>Maize</td>\n",
       "      <td>7016SAM</td>\n",
       "      <td>Samang</td>\n",
       "      <td>Gushegu</td>\n",
       "      <td>NOTHERN</td>\n",
       "      <td>July-October</td>\n",
       "      <td>971.2</td>\n",
       "      <td>1.90333</td>\n",
       "      <td>POLYGON Z ((-0.39515 9.78424 155.80035, -0.395...</td>\n",
       "    </tr>\n",
       "    <tr>\n",
       "      <th>3</th>\n",
       "      <td>Maize</td>\n",
       "      <td>7068ZIN</td>\n",
       "      <td>Zinido</td>\n",
       "      <td>Gushegu</td>\n",
       "      <td>NOTHERN</td>\n",
       "      <td>July-October</td>\n",
       "      <td>594.8</td>\n",
       "      <td>1.89827</td>\n",
       "      <td>POLYGON Z ((-0.56585 9.60029 152.73311, -0.565...</td>\n",
       "    </tr>\n",
       "    <tr>\n",
       "      <th>4</th>\n",
       "      <td>Maize</td>\n",
       "      <td>7074ZIN</td>\n",
       "      <td>Zinido</td>\n",
       "      <td>Gushegu</td>\n",
       "      <td>NOTHERN</td>\n",
       "      <td>July-October</td>\n",
       "      <td>1038.4</td>\n",
       "      <td>1.33223</td>\n",
       "      <td>POLYGON Z ((-0.56682 9.61834 155.19829, -0.566...</td>\n",
       "    </tr>\n",
       "  </tbody>\n",
       "</table>\n",
       "</div>"
      ],
      "text/plain": [
       "    Crop Field_ID COMMUNITY DISTRICT    REGION        Season  Yield kg/H  \\\n",
       "0  Maize  5012LAB  LABARIGA   TAMALE  NORTHERN  July-October       927.0   \n",
       "1  Maize  5057PAG   Pagazaa   Tamale   NOTHERN  July-October      3245.7   \n",
       "2  Maize  7016SAM    Samang  Gushegu   NOTHERN  July-October       971.2   \n",
       "3  Maize  7068ZIN    Zinido  Gushegu   NOTHERN  July-October       594.8   \n",
       "4  Maize  7074ZIN    Zinido  Gushegu   NOTHERN  July-October      1038.4   \n",
       "\n",
       "   Area(acre)                                           geometry  \n",
       "0     3.06694  POLYGON Z ((-0.59936 9.42675 193.39733, -0.599...  \n",
       "1     1.36539  POLYGON Z ((-0.70847 9.37734 144.6005, -0.7085...  \n",
       "2     1.90333  POLYGON Z ((-0.39515 9.78424 155.80035, -0.395...  \n",
       "3     1.89827  POLYGON Z ((-0.56585 9.60029 152.73311, -0.565...  \n",
       "4     1.33223  POLYGON Z ((-0.56682 9.61834 155.19829, -0.566...  "
      ]
     },
     "execution_count": 22,
     "metadata": {},
     "output_type": "execute_result"
    }
   ],
   "source": [
    "# check input data structure \n",
    "gpd.read_file(input_df).head(5)"
   ]
  },
  {
   "cell_type": "code",
   "execution_count": 23,
   "metadata": {},
   "outputs": [
    {
     "name": "stderr",
     "output_type": "stream",
     "text": [
      "2025-08-11 15:57:59,400|extraction_pipeline|INFO:  Loading input dataframe from /home/giorgia/Private/data/geomaize/correct/Maize_2023_valid.geojson.\n",
      "2025-08-11 15:57:59,414|extraction_pipeline|INFO:  Preparing the job dataframe.\n",
      "2025-08-11 15:57:59,414|extraction_pipeline|INFO:  Performing splitting by s2 grid...\n"
     ]
    },
    {
     "name": "stderr",
     "output_type": "stream",
     "text": [
      "/home/giorgia/.conda/envs/agri/lib/python3.10/site-packages/openeo_gfmap/manager/job_splitters.py:113: UserWarning: Geometry is in a geographic CRS. Results from 'centroid' are likely incorrect. Use 'GeoSeries.to_crs()' to re-project geometries to a projected CRS before this operation.\n",
      "\n",
      "  polygons[\"centroid\"] = polygons.geometry.centroid\n",
      "2025-08-11 15:57:59,809|extraction_pipeline|INFO:  Dataframes split to jobs, creating the job dataframe...\n",
      "  0%|          | 0/1 [00:00<?, ?it/s]/data/users/Private/giorgia/git/scaleag-vito/src/scaleagdata_vito/openeo/extract_sample_scaleag.py:149: UserWarning: Geometry is in a geographic CRS. Results from 'centroid' are likely incorrect. Use 'GeoSeries.to_crs()' to re-project geometries to a projected CRS before this operation.\n",
      "\n",
      "  job[\"lat\"] = job.geometry.centroid.y\n",
      "/data/users/Private/giorgia/git/scaleag-vito/src/scaleagdata_vito/openeo/extract_sample_scaleag.py:150: UserWarning: Geometry is in a geographic CRS. Results from 'centroid' are likely incorrect. Use 'GeoSeries.to_crs()' to re-project geometries to a projected CRS before this operation.\n",
      "\n",
      "  job[\"lon\"] = job.geometry.centroid.x\n",
      "100%|██████████| 1/1 [00:00<00:00, 21.86it/s]\n",
      "2025-08-11 15:57:59,863|extraction_pipeline|INFO:  Job dataframe created with 1 jobs.\n",
      "2025-08-11 15:57:59,864|extraction_pipeline|INFO:  Setting up the extraction functions.\n",
      "2025-08-11 15:57:59,866|extraction_pipeline|INFO:  Initializing the job manager.\n",
      "2025-08-11 15:57:59,868|extraction_pipeline|INFO:  Launching the jobs manager.\n",
      "2025-08-11 15:57:59,869|openeo_gfmap.manager|INFO:  Starting ThreadPoolExecutor with 4 workers.\n",
      "2025-08-11 15:57:59,871|openeo_gfmap.manager|INFO:  Creating and running jobs.\n"
     ]
    },
    {
     "name": "stdout",
     "output_type": "stream",
     "text": [
      "Authenticated using refresh token.\n"
     ]
    },
    {
     "name": "stderr",
     "output_type": "stream",
     "text": [
      "2025-08-11 16:06:28,508|openeo_gfmap.manager|INFO:  Parsed item timeseries.parquet from job j-2508111358034414879e659066f52ab6\n",
      "2025-08-11 16:06:28,581|openeo_gfmap.manager|INFO:  Adding 1 items to the STAC collection...\n",
      "2025-08-11 16:06:28,582|openeo_gfmap.manager|INFO:  Job j-2508111358034414879e659066f52ab6 and post job action finished successfully.\n",
      "2025-08-11 16:07:28,640|openeo_gfmap.manager|INFO:  Quitting job tracking & waiting for last post-job actions to finish.\n",
      "2025-08-11 16:07:28,642|openeo_gfmap.manager|INFO:  Exiting ThreadPoolExecutor.\n",
      "2025-08-11 16:07:28,644|openeo_gfmap.manager|INFO:  All jobs finished running.\n",
      "2025-08-11 16:07:28,645|openeo_gfmap.manager|INFO:  STAC was disabled, skipping generation of the catalogue.\n",
      "2025-08-11 16:07:28,647|extraction_pipeline|INFO:  Extraction completed successfully.\n"
     ]
    }
   ],
   "source": [
    "job_params = dict(\n",
    "    output_folder=output_folder,\n",
    "    input_df=input_df,\n",
    "    start_date=start_date,\n",
    "    end_date=end_date,\n",
    "    unique_id_column=unique_id_column,\n",
    "    composite_window=composite_window,\n",
    ")\n",
    "extract(generate_input_for_extractions(job_params))"
   ]
  },
  {
   "cell_type": "markdown",
   "metadata": {},
   "source": [
    "Once the dataset will be extracted, it can be loaded with the `load_dataset` function by specifying the path where the `.parquet` files have been downloaded. Moreover, **if** we are dealing with 1 year of data falling in the **same time period**, the following manipulations of the dataset are also possible.\n",
    "\n",
    "- `window_of_interest`: the user can specify a time window of interest out of the whole available time-series. `start_date` and `end_date` should be provided as strings in a list.\n",
    "- `use_valid_time`: the user might want to define the window of interest based on the `date` the label is associated with. If so, also `required_min_timesteps` should be provided\n",
    "- `buffer_window`: buffers the `start_date` and `end_date` by a number of time steps specified with this argument. \n",
    "\n",
    "In the following cell, we load the extracted dataset for 1 year of data."
   ]
  },
  {
   "cell_type": "markdown",
   "metadata": {},
   "source": [
    "### 2) Presto datasets initialization"
   ]
  },
  {
   "cell_type": "code",
   "execution_count": null,
   "metadata": {},
   "outputs": [
    {
     "name": "stderr",
     "output_type": "stream",
     "text": [
      "  0%|          | 0/3 [00:00<?, ?it/s]"
     ]
    },
    {
     "name": "stderr",
     "output_type": "stream",
     "text": [
      "100%|██████████| 3/3 [00:00<00:00, 16.01it/s]\n",
      "\u001b[32m2025-08-12 09:02:45.120\u001b[0m | \u001b[1mINFO    \u001b[0m | \u001b[36mscaleagdata_vito.presto.utils\u001b[0m:\u001b[36mtrain_test_val_split\u001b[0m:\u001b[36m362\u001b[0m - \u001b[1mTraining set size: 106\u001b[0m\n",
      "\u001b[32m2025-08-12 09:02:45.121\u001b[0m | \u001b[1mINFO    \u001b[0m | \u001b[36mscaleagdata_vito.presto.utils\u001b[0m:\u001b[36mtrain_test_val_split\u001b[0m:\u001b[36m363\u001b[0m - \u001b[1mValidation set size: 14\u001b[0m\n",
      "\u001b[32m2025-08-12 09:02:45.121\u001b[0m | \u001b[1mINFO    \u001b[0m | \u001b[36mscaleagdata_vito.presto.utils\u001b[0m:\u001b[36mtrain_test_val_split\u001b[0m:\u001b[36m364\u001b[0m - \u001b[1mTest set size: 13\u001b[0m\n"
     ]
    }
   ],
   "source": [
    "extractions = load_dataset(\n",
    "    output_folder,\n",
    "    composite_window=composite_window,\n",
    ")\n",
    "train_df, test_df, val_df = train_test_val_split(\n",
    "    extractions,\n",
    "    uniform_sample_by=unique_id_column,\n",
    "    sampling_frac=0.8,\n",
    "    nmin_per_class=1, # do not change this parameter\n",
    ")"
   ]
  },
  {
   "cell_type": "markdown",
   "metadata": {},
   "source": [
    "We now set up the parameters needed for initializing presto datasets for the specific task:\n",
    "- `num_timesteps`: can be inferred by the max number of the `available_timesteps` \n",
    "- `target_name`: name of the column containing the target data"
   ]
  },
  {
   "cell_type": "code",
   "execution_count": 9,
   "metadata": {},
   "outputs": [],
   "source": [
    "# visualize distribution to check for outliers to exclude if needed\n",
    "num_timesteps = extractions.available_timesteps.max()\n",
    "task_type = \"regression\"\n",
    "target_name=\"Yield kg/H\""
   ]
  },
  {
   "cell_type": "markdown",
   "metadata": {},
   "source": [
    "We Initialize the training, validation and test datasets objects to be used for training Presto."
   ]
  },
  {
   "cell_type": "code",
   "execution_count": null,
   "metadata": {},
   "outputs": [
    {
     "name": "stderr",
     "output_type": "stream",
     "text": [
      "\u001b[32m2025-08-11 16:32:24.985\u001b[0m | \u001b[1mINFO    \u001b[0m | \u001b[36mscaleagdata_vito.presto.datasets_prometheo\u001b[0m:\u001b[36mset_num_outputs\u001b[0m:\u001b[36m145\u001b[0m - \u001b[1mSetting number of outputs to 1 for regression task.\u001b[0m\n",
      "\u001b[32m2025-08-11 16:32:24.988\u001b[0m | \u001b[1mINFO    \u001b[0m | \u001b[36mscaleagdata_vito.presto.datasets_prometheo\u001b[0m:\u001b[36mset_num_outputs\u001b[0m:\u001b[36m145\u001b[0m - \u001b[1mSetting number of outputs to 1 for regression task.\u001b[0m\n",
      "\u001b[32m2025-08-11 16:32:24.990\u001b[0m | \u001b[1mINFO    \u001b[0m | \u001b[36mscaleagdata_vito.presto.datasets_prometheo\u001b[0m:\u001b[36mset_num_outputs\u001b[0m:\u001b[36m145\u001b[0m - \u001b[1mSetting number of outputs to 1 for regression task.\u001b[0m\n"
     ]
    }
   ],
   "source": [
    "train_ds = ScaleAgDataset(\n",
    "    dataframe=train_df,\n",
    "    num_timesteps=num_timesteps,\n",
    "    task_type=task_type,\n",
    "    target_name=target_name,\n",
    "    composite_window=composite_window,\n",
    ")\n",
    "\n",
    "val_ds = ScaleAgDataset(\n",
    "    dataframe=val_df,\n",
    "    num_timesteps=num_timesteps,\n",
    "    task_type=task_type,\n",
    "    target_name=target_name,\n",
    "    composite_window=composite_window,\n",
    ")\n",
    "\n",
    "test_ds = ScaleAgDataset(\n",
    "    dataframe=test_df,\n",
    "    num_timesteps=num_timesteps,\n",
    "    task_type=task_type,\n",
    "    target_name=target_name,\n",
    "    composite_window=composite_window,\n",
    ")"
   ]
  },
  {
   "cell_type": "markdown",
   "metadata": {},
   "source": [
    "### 3) Presto Finetuning\n",
    "\n",
    "In this section Presto will be Fine-Tuned in a supervised way for the target downstream task. first we set up the following experiment parameters:\n",
    "\n",
    "- `output_dir` : where to dave the model \n",
    "- `experiment_name` : the model name"
   ]
  },
  {
   "cell_type": "code",
   "execution_count": null,
   "metadata": {},
   "outputs": [],
   "source": [
    "# Set model Hyperparameters\n",
    "models_dir = Path(\"/home/giorgia/Private/data/geomaize/models/\")\n",
    "experiment_name = \"presto-ss-wc-10D-ft-dek-geomaize-lognorm\"\n",
    "model_output_dir = models_dir / experiment_name\n",
    "model_output_dir.mkdir(parents=True, exist_ok=True)"
   ]
  },
  {
   "cell_type": "code",
   "execution_count": null,
   "metadata": {},
   "outputs": [
    {
     "name": "stderr",
     "output_type": "stream",
     "text": [
      "\u001b[32m2025-08-11 16:33:05.334\u001b[0m | \u001b[1mINFO    \u001b[0m | \u001b[36mscaleagdata_vito.presto.utils\u001b[0m:\u001b[36mfinetune_on_task\u001b[0m:\u001b[36m241\u001b[0m - \u001b[1mFinetuning the model on regression task\u001b[0m\n",
      "\u001b[32m2025-08-11 16:33:05.615\u001b[0m | \u001b[1mINFO    \u001b[0m | \u001b[36mprometheo.finetune\u001b[0m:\u001b[36m_setup\u001b[0m:\u001b[36m190\u001b[0m - \u001b[1mUsing output dir: /data/users/Private/giorgia/data/geomaize/models/presto-ss-wc-10D-ft-dek-geomaize-lognorm\u001b[0m\n"
     ]
    },
    {
     "data": {
      "application/vnd.jupyter.widget-view+json": {
       "model_id": "4fd62deb5bdf445a8fd45e676b4d26eb",
       "version_major": 2,
       "version_minor": 0
      },
      "text/plain": [
       "Finetuning:   0%|          | 0/100 [00:00<?, ?it/s]"
      ]
     },
     "metadata": {},
     "output_type": "display_data"
    },
    {
     "data": {
      "application/vnd.jupyter.widget-view+json": {
       "model_id": "335bb1a777ad4b75ba45df525f522c0c",
       "version_major": 2,
       "version_minor": 0
      },
      "text/plain": [
       "Training:   0%|          | 0/4 [00:00<?, ?it/s]"
      ]
     },
     "metadata": {},
     "output_type": "display_data"
    },
    {
     "name": "stderr",
     "output_type": "stream",
     "text": [
      "\u001b[32m2025-08-11 16:33:06.750\u001b[0m | \u001b[1mINFO    \u001b[0m | \u001b[36mprometheo.finetune\u001b[0m:\u001b[36m_train_loop\u001b[0m:\u001b[36m145\u001b[0m - \u001b[1mPROGRESS after Epoch 1/100: Epoch 1/100 | Train Loss: 32.7593 | Val Loss: 3.9470 | Best Loss: 3.9470 (improved)\u001b[0m\n"
     ]
    },
    {
     "data": {
      "application/vnd.jupyter.widget-view+json": {
       "model_id": "1787f77b20c3469a8adae4682a27d89b",
       "version_major": 2,
       "version_minor": 0
      },
      "text/plain": [
       "Training:   0%|          | 0/4 [00:00<?, ?it/s]"
      ]
     },
     "metadata": {},
     "output_type": "display_data"
    },
    {
     "name": "stderr",
     "output_type": "stream",
     "text": [
      "\u001b[32m2025-08-11 16:33:08.059\u001b[0m | \u001b[1mINFO    \u001b[0m | \u001b[36mprometheo.finetune\u001b[0m:\u001b[36m_train_loop\u001b[0m:\u001b[36m145\u001b[0m - \u001b[1mPROGRESS after Epoch 2/100: Epoch 2/100 | Train Loss: 3.9923 | Val Loss: 0.4537 | Best Loss: 0.4537 (improved)\u001b[0m\n"
     ]
    },
    {
     "data": {
      "application/vnd.jupyter.widget-view+json": {
       "model_id": "5993b3bf148b4e23a0afe4fa5461422d",
       "version_major": 2,
       "version_minor": 0
      },
      "text/plain": [
       "Training:   0%|          | 0/4 [00:00<?, ?it/s]"
      ]
     },
     "metadata": {},
     "output_type": "display_data"
    },
    {
     "name": "stderr",
     "output_type": "stream",
     "text": [
      "\u001b[32m2025-08-11 16:33:09.058\u001b[0m | \u001b[1mINFO    \u001b[0m | \u001b[36mprometheo.finetune\u001b[0m:\u001b[36m_train_loop\u001b[0m:\u001b[36m145\u001b[0m - \u001b[1mPROGRESS after Epoch 3/100: Epoch 3/100 | Train Loss: 1.0235 | Val Loss: 0.2500 | Best Loss: 0.2500 (improved)\u001b[0m\n"
     ]
    },
    {
     "data": {
      "application/vnd.jupyter.widget-view+json": {
       "model_id": "dc79a4cb7ec44eaea77aa7689f3920e5",
       "version_major": 2,
       "version_minor": 0
      },
      "text/plain": [
       "Training:   0%|          | 0/4 [00:00<?, ?it/s]"
      ]
     },
     "metadata": {},
     "output_type": "display_data"
    },
    {
     "name": "stderr",
     "output_type": "stream",
     "text": [
      "\u001b[32m2025-08-11 16:33:10.476\u001b[0m | \u001b[1mINFO    \u001b[0m | \u001b[36mprometheo.finetune\u001b[0m:\u001b[36m_train_loop\u001b[0m:\u001b[36m145\u001b[0m - \u001b[1mPROGRESS after Epoch 4/100: Epoch 4/100 | Train Loss: 0.8592 | Val Loss: 0.4286 | Best Loss: 0.2500 (no improvement for 1 epochs)\u001b[0m\n"
     ]
    },
    {
     "data": {
      "application/vnd.jupyter.widget-view+json": {
       "model_id": "6eb36448f8334bedb923e48ec05d9da5",
       "version_major": 2,
       "version_minor": 0
      },
      "text/plain": [
       "Training:   0%|          | 0/4 [00:00<?, ?it/s]"
      ]
     },
     "metadata": {},
     "output_type": "display_data"
    },
    {
     "name": "stderr",
     "output_type": "stream",
     "text": [
      "\u001b[32m2025-08-11 16:33:11.393\u001b[0m | \u001b[1mINFO    \u001b[0m | \u001b[36mprometheo.finetune\u001b[0m:\u001b[36m_train_loop\u001b[0m:\u001b[36m145\u001b[0m - \u001b[1mPROGRESS after Epoch 5/100: Epoch 5/100 | Train Loss: 0.7404 | Val Loss: 0.5482 | Best Loss: 0.2500 (no improvement for 2 epochs)\u001b[0m\n"
     ]
    },
    {
     "data": {
      "application/vnd.jupyter.widget-view+json": {
       "model_id": "8d804c5552ab42d0b3205690a642644c",
       "version_major": 2,
       "version_minor": 0
      },
      "text/plain": [
       "Training:   0%|          | 0/4 [00:00<?, ?it/s]"
      ]
     },
     "metadata": {},
     "output_type": "display_data"
    },
    {
     "name": "stderr",
     "output_type": "stream",
     "text": [
      "\u001b[32m2025-08-11 16:33:12.459\u001b[0m | \u001b[1mINFO    \u001b[0m | \u001b[36mprometheo.finetune\u001b[0m:\u001b[36m_train_loop\u001b[0m:\u001b[36m145\u001b[0m - \u001b[1mPROGRESS after Epoch 6/100: Epoch 6/100 | Train Loss: 0.9215 | Val Loss: 0.4698 | Best Loss: 0.2500 (no improvement for 3 epochs)\u001b[0m\n"
     ]
    },
    {
     "data": {
      "application/vnd.jupyter.widget-view+json": {
       "model_id": "ad5a3f1e478044fe94146f260d45dc5c",
       "version_major": 2,
       "version_minor": 0
      },
      "text/plain": [
       "Training:   0%|          | 0/4 [00:00<?, ?it/s]"
      ]
     },
     "metadata": {},
     "output_type": "display_data"
    },
    {
     "name": "stderr",
     "output_type": "stream",
     "text": [
      "\u001b[32m2025-08-11 16:33:13.326\u001b[0m | \u001b[1mINFO    \u001b[0m | \u001b[36mprometheo.finetune\u001b[0m:\u001b[36m_train_loop\u001b[0m:\u001b[36m145\u001b[0m - \u001b[1mPROGRESS after Epoch 7/100: Epoch 7/100 | Train Loss: 0.7164 | Val Loss: 0.3673 | Best Loss: 0.2500 (no improvement for 4 epochs)\u001b[0m\n"
     ]
    },
    {
     "data": {
      "application/vnd.jupyter.widget-view+json": {
       "model_id": "b1aee806c880472d8a00b05eb3cab2dd",
       "version_major": 2,
       "version_minor": 0
      },
      "text/plain": [
       "Training:   0%|          | 0/4 [00:00<?, ?it/s]"
      ]
     },
     "metadata": {},
     "output_type": "display_data"
    },
    {
     "name": "stderr",
     "output_type": "stream",
     "text": [
      "\u001b[32m2025-08-11 16:33:14.168\u001b[0m | \u001b[1mINFO    \u001b[0m | \u001b[36mprometheo.finetune\u001b[0m:\u001b[36m_train_loop\u001b[0m:\u001b[36m145\u001b[0m - \u001b[1mPROGRESS after Epoch 8/100: Epoch 8/100 | Train Loss: 0.6423 | Val Loss: 0.2736 | Best Loss: 0.2500 (no improvement for 5 epochs)\u001b[0m\n"
     ]
    },
    {
     "data": {
      "application/vnd.jupyter.widget-view+json": {
       "model_id": "3e9946e8f10240ed8d238146faefc9ab",
       "version_major": 2,
       "version_minor": 0
      },
      "text/plain": [
       "Training:   0%|          | 0/4 [00:00<?, ?it/s]"
      ]
     },
     "metadata": {},
     "output_type": "display_data"
    },
    {
     "name": "stderr",
     "output_type": "stream",
     "text": [
      "\u001b[32m2025-08-11 16:33:15.225\u001b[0m | \u001b[1mINFO    \u001b[0m | \u001b[36mprometheo.finetune\u001b[0m:\u001b[36m_train_loop\u001b[0m:\u001b[36m145\u001b[0m - \u001b[1mPROGRESS after Epoch 9/100: Epoch 9/100 | Train Loss: 0.6451 | Val Loss: 0.2916 | Best Loss: 0.2500 (no improvement for 6 epochs)\u001b[0m\n"
     ]
    },
    {
     "data": {
      "application/vnd.jupyter.widget-view+json": {
       "model_id": "86bdfc36342848b9a694f3ec82fdfb66",
       "version_major": 2,
       "version_minor": 0
      },
      "text/plain": [
       "Training:   0%|          | 0/4 [00:00<?, ?it/s]"
      ]
     },
     "metadata": {},
     "output_type": "display_data"
    },
    {
     "name": "stderr",
     "output_type": "stream",
     "text": [
      "\u001b[32m2025-08-11 16:33:15.994\u001b[0m | \u001b[1mINFO    \u001b[0m | \u001b[36mprometheo.finetune\u001b[0m:\u001b[36m_train_loop\u001b[0m:\u001b[36m145\u001b[0m - \u001b[1mPROGRESS after Epoch 10/100: Epoch 10/100 | Train Loss: 0.6755 | Val Loss: 0.4210 | Best Loss: 0.2500 (no improvement for 7 epochs)\u001b[0m\n"
     ]
    },
    {
     "data": {
      "application/vnd.jupyter.widget-view+json": {
       "model_id": "914b323717f547bc985befc2eca23372",
       "version_major": 2,
       "version_minor": 0
      },
      "text/plain": [
       "Training:   0%|          | 0/4 [00:00<?, ?it/s]"
      ]
     },
     "metadata": {},
     "output_type": "display_data"
    },
    {
     "name": "stderr",
     "output_type": "stream",
     "text": [
      "\u001b[32m2025-08-11 16:33:16.911\u001b[0m | \u001b[1mINFO    \u001b[0m | \u001b[36mprometheo.finetune\u001b[0m:\u001b[36m_train_loop\u001b[0m:\u001b[36m145\u001b[0m - \u001b[1mPROGRESS after Epoch 11/100: Epoch 11/100 | Train Loss: 0.7012 | Val Loss: 0.4779 | Best Loss: 0.2500 (no improvement for 8 epochs)\u001b[0m\n"
     ]
    },
    {
     "data": {
      "application/vnd.jupyter.widget-view+json": {
       "model_id": "2a0f97ddefdb40c986c20107b69707c0",
       "version_major": 2,
       "version_minor": 0
      },
      "text/plain": [
       "Training:   0%|          | 0/4 [00:00<?, ?it/s]"
      ]
     },
     "metadata": {},
     "output_type": "display_data"
    },
    {
     "name": "stderr",
     "output_type": "stream",
     "text": [
      "\u001b[32m2025-08-11 16:33:17.836\u001b[0m | \u001b[1mINFO    \u001b[0m | \u001b[36mprometheo.finetune\u001b[0m:\u001b[36m_train_loop\u001b[0m:\u001b[36m145\u001b[0m - \u001b[1mPROGRESS after Epoch 12/100: Epoch 12/100 | Train Loss: 0.6427 | Val Loss: 0.4714 | Best Loss: 0.2500 (no improvement for 9 epochs)\u001b[0m\n"
     ]
    },
    {
     "data": {
      "application/vnd.jupyter.widget-view+json": {
       "model_id": "3973a1d5df914d538228ee31ebbd9354",
       "version_major": 2,
       "version_minor": 0
      },
      "text/plain": [
       "Training:   0%|          | 0/4 [00:00<?, ?it/s]"
      ]
     },
     "metadata": {},
     "output_type": "display_data"
    },
    {
     "name": "stderr",
     "output_type": "stream",
     "text": [
      "\u001b[32m2025-08-11 16:33:18.589\u001b[0m | \u001b[1mINFO    \u001b[0m | \u001b[36mprometheo.finetune\u001b[0m:\u001b[36m_train_loop\u001b[0m:\u001b[36m128\u001b[0m - \u001b[1mEarly stopping!\u001b[0m\n",
      "\u001b[32m2025-08-11 16:33:19.064\u001b[0m | \u001b[1mINFO    \u001b[0m | \u001b[36mprometheo.finetune\u001b[0m:\u001b[36mrun_finetuning\u001b[0m:\u001b[36m279\u001b[0m - \u001b[1mFinetuning done\u001b[0m\n"
     ]
    }
   ],
   "source": [
    "# Construct the model with finetuning head starting from the pretrained model\n",
    "finetuned_model = finetune_on_task(\n",
    "    train_ds=train_ds,\n",
    "    val_ds=val_ds,\n",
    "    pretrained_model_path=get_pretrained_model_url(composite_window=composite_window),\n",
    "    output_dir=model_output_dir,\n",
    "    experiment_name=experiment_name,\n",
    "    batch_size=32,\n",
    "    num_workers=0,\n",
    "    max_epochs=100, # max num of training rounds the model should go through\n",
    "    patience=10, # how many epochs to wait for improvement before stopping\n",
    "    lr=1e-3, # learning rate. this paramenter shoul be kept < 1e-3. usually very low (eg 2e-5)\n",
    "    )\n",
    "# save ids to csvs for experiment replication\n",
    "val_df['sample_id'].to_csv(model_output_dir / \"val_sample_ids.csv\", index=False)\n",
    "test_df['sample_id'].to_csv(model_output_dir / \"test_sample_ids.csv\", index=False)"
   ]
  },
  {
   "cell_type": "code",
   "execution_count": null,
   "metadata": {},
   "outputs": [
    {
     "name": "stderr",
     "output_type": "stream",
     "text": [
      "\u001b[32m2025-08-11 16:33:34.325\u001b[0m | \u001b[1mINFO    \u001b[0m | \u001b[36mscaleagdata_vito.presto.utils\u001b[0m:\u001b[36mevaluate_finetuned_model\u001b[0m:\u001b[36m113\u001b[0m - \u001b[1mEvaluating the finetuned model on regression task\u001b[0m\n"
     ]
    },
    {
     "name": "stdout",
     "output_type": "stream",
     "text": [
      "{'RMSE': 832.60603679051, 'MSE': 693232.8125, 'R2_score': -0.08403956890106201, 'MAPE': 0.694234311580658}\n"
     ]
    },
    {
     "name": "stderr",
     "output_type": "stream",
     "text": [
      "\u001b[32m2025-08-11 16:33:34.781\u001b[0m | \u001b[1mINFO    \u001b[0m | \u001b[36mscaleagdata_vito.presto.utils\u001b[0m:\u001b[36mevaluate_finetuned_model\u001b[0m:\u001b[36m113\u001b[0m - \u001b[1mEvaluating the finetuned model on regression task\u001b[0m\n"
     ]
    },
    {
     "name": "stdout",
     "output_type": "stream",
     "text": [
      "{'RMSE': 832.60603679051, 'MSE': 693232.8125, 'R2_score': -0.08403956890106201, 'MAPE': 0.694234311580658}\n"
     ]
    },
    {
     "data": {
      "text/plain": [
       "<matplotlib.legend.Legend at 0x7fc99e71d1e0>"
      ]
     },
     "execution_count": 9,
     "metadata": {},
     "output_type": "execute_result"
    },
    {
     "data": {
      "image/png": "[encoded data removed]",
      "text/plain": [
       "<Figure size 1500x500 with 1 Axes>"
      ]
     },
     "metadata": {},
     "output_type": "display_data"
    }
   ],
   "source": [
    "import matplotlib.pyplot as plt\n",
    "import numpy as np\n",
    "\n",
    "metrics, preds_original_units, targets_original_units = evaluate_finetuned_model(finetuned_model, test_ds, num_workers=0, batch_size=32)\n",
    "print(metrics)\n",
    "\n",
    "finetuned_model = load_finetuned_model(\n",
    "    model_path = model_output_dir / experiment_name,\n",
    "    task_type=task_type,\n",
    ")\n",
    "\n",
    "metrics, preds_original_units, targets_original_units = evaluate_finetuned_model(finetuned_model, test_ds, num_workers=0, batch_size=32)\n",
    "\n",
    "plt.figure(figsize=(15, 5))\n",
    "plt.subplot(1, 2, 2)\n",
    "plt.scatter(x=np.arange(len(preds_original_units)), y=preds_original_units, label='preds')\n",
    "plt.scatter(x=np.arange(len(targets_original_units)), y=targets_original_units, label='targets')\n",
    "plt.xticks(ticks=np.arange(len(test_df)), labels=test_df.sample_id.to_list(), rotation=45)\n",
    "plt.legend()"
   ]
  },
  {
   "cell_type": "markdown",
   "metadata": {},
   "source": [
    "### 4) Inference using Fine-Tuned end-to-end Presto"
   ]
  },
  {
   "cell_type": "markdown",
   "metadata": {},
   "source": [
    "In this section, we apply the fine tuned model to generate a yield map on an unseen area. \n",
    "We need to indicate the spatial and temporal extent. The 2 cells below, offer a simple way for the user to provide these information and perform once again the extraction from CDSE of the EO time-series required by Presto. \n",
    "We also need to indicate the `output_dir` of where to save the datacube of the extraction, its `output_filename` and the `composite_window` which will be the same as used for finetuning the model."
   ]
  },
  {
   "cell_type": "code",
   "execution_count": 10,
   "metadata": {},
   "outputs": [
    {
     "data": {
      "application/vnd.jupyter.widget-view+json": {
       "model_id": "4a4f674a1298441a92ed8875ca37addb",
       "version_major": 2,
       "version_minor": 0
      },
      "text/plain": [
       "VBox(children=(Map(center=[51.1872, 5.1154], controls=(ZoomControl(options=['position', 'zoom_in_text', 'zoom_…"
      ]
     },
     "metadata": {},
     "output_type": "display_data"
    }
   ],
   "source": [
    "map = ui_map(area_limit=7)"
   ]
  },
  {
   "cell_type": "code",
   "execution_count": 11,
   "metadata": {},
   "outputs": [
    {
     "data": {
      "text/html": [
       "\n",
       "        <style>\n",
       "        .widget-container {\n",
       "            padding-left: 10px; /* Add 20px margin on left and right */\n",
       "            box-sizing: border-box; /* Include padding in width */\n",
       "            width: 600px; /* Fixed width for consistent alignment */\n",
       "            margin: 0 auto; /* Center align the container */\n",
       "            position: relative;\n",
       "        }\n",
       "        .slider-container {\n",
       "            position: relative;\n",
       "            width: 100%;\n",
       "            margin: 0 auto; /* Center align */\n",
       "        }\n",
       "        .slider-container .tick-wrapper {\n",
       "            position: relative;\n",
       "            width: 100%; /* Match slider width */\n",
       "            height: 40px; /* Reserve space for ticks and labels */\n",
       "        }\n",
       "        .slider-container .tick-mark {\n",
       "            position: absolute;\n",
       "            bottom: 25px; /* Adjust to position tick marks relative to labels */\n",
       "            transform: translateX(-50%);\n",
       "            font-size: 14px;\n",
       "            font-weight: bold;\n",
       "        }\n",
       "        .slider-container .tick-label {\n",
       "            position: absolute;\n",
       "            bottom: 0; /* Place directly under tick marks */\n",
       "            transform: translateX(-50%);\n",
       "            font-size: 10px;\n",
       "            text-align: center;\n",
       "            line-height: 1.2em; /* For two-line labels */\n",
       "        }\n",
       "        </style>\n",
       "        "
      ],
      "text/plain": [
       "<IPython.core.display.HTML object>"
      ]
     },
     "metadata": {},
     "output_type": "display_data"
    },
    {
     "data": {
      "application/vnd.jupyter.widget-view+json": {
       "model_id": "f6b66206b36a4552bddf7b6f6cd3f0dd",
       "version_major": 2,
       "version_minor": 0
      },
      "text/plain": [
       "VBox(children=(HTML(value=\"\\n            <div style='text-align: center;'>\\n                <div style='font-s…"
      ]
     },
     "metadata": {},
     "output_type": "display_data"
    }
   ],
   "source": [
    "# select 1 year of data\n",
    "slider = date_slider()"
   ]
  },
  {
   "cell_type": "code",
   "execution_count": null,
   "metadata": {},
   "outputs": [],
   "source": [
    "output_dir = Path(\"/home/giorgia/Private/data/geomaize/regression\")\n",
    "output_filename = \"inference_area\"\n",
    "inference_file = output_dir / f\"{output_filename}.nc\""
   ]
  },
  {
   "cell_type": "code",
   "execution_count": 16,
   "metadata": {},
   "outputs": [
    {
     "name": "stderr",
     "output_type": "stream",
     "text": [
      "\u001b[32m2025-08-11 16:57:41.651\u001b[0m | \u001b[1mINFO    \u001b[0m | \u001b[36mscaleagdata_vito.utils.dateslider\u001b[0m:\u001b[36mget_processing_period\u001b[0m:\u001b[36m187\u001b[0m - \u001b[1mSelected processing period: 2021-01-01 to 2021-12-31\u001b[0m\n"
     ]
    },
    {
     "name": "stdout",
     "output_type": "stream",
     "text": [
      "Authenticated using refresh token.\n",
      "0:00:00 Job 'j-2508111457434c6b92160d17c8064a2d': send 'start'\n",
      "0:00:13 Job 'j-2508111457434c6b92160d17c8064a2d': created (progress 0%)\n",
      "0:00:18 Job 'j-2508111457434c6b92160d17c8064a2d': created (progress 0%)\n",
      "0:00:25 Job 'j-2508111457434c6b92160d17c8064a2d': queued (progress 0%)\n",
      "0:00:33 Job 'j-2508111457434c6b92160d17c8064a2d': queued (progress 0%)\n",
      "0:00:43 Job 'j-2508111457434c6b92160d17c8064a2d': queued (progress 0%)\n",
      "0:00:55 Job 'j-2508111457434c6b92160d17c8064a2d': queued (progress 0%)\n",
      "0:01:11 Job 'j-2508111457434c6b92160d17c8064a2d': queued (progress 0%)\n",
      "0:01:30 Job 'j-2508111457434c6b92160d17c8064a2d': queued (progress 0%)\n",
      "0:01:54 Job 'j-2508111457434c6b92160d17c8064a2d': queued (progress 0%)\n",
      "0:02:24 Job 'j-2508111457434c6b92160d17c8064a2d': queued (progress 0%)\n",
      "0:03:01 Job 'j-2508111457434c6b92160d17c8064a2d': running (progress N/A)\n",
      "0:03:48 Job 'j-2508111457434c6b92160d17c8064a2d': running (progress N/A)\n",
      "0:04:46 Job 'j-2508111457434c6b92160d17c8064a2d': running (progress N/A)\n",
      "0:05:47 Job 'j-2508111457434c6b92160d17c8064a2d': running (progress N/A)\n",
      "0:06:47 Job 'j-2508111457434c6b92160d17c8064a2d': running (progress N/A)\n",
      "0:07:47 Job 'j-2508111457434c6b92160d17c8064a2d': finished (progress 100%)\n"
     ]
    }
   ],
   "source": [
    "collect_inputs_for_inference(\n",
    "    spatial_extent=map.get_extent(),\n",
    "    temporal_extent=slider.get_processing_period(),\n",
    "    output_path=output_dir,\n",
    "    output_filename=f\"{output_filename}.nc\",\n",
    "    composite_window=composite_window,\n",
    ")"
   ]
  },
  {
   "cell_type": "markdown",
   "metadata": {},
   "source": [
    "Once the datacube has been extracted, we can perform the inference task using the finetuned model and visualize the predicted map. "
   ]
  },
  {
   "cell_type": "code",
   "execution_count": 24,
   "metadata": {},
   "outputs": [],
   "source": [
    "inference_file = output_dir / \"inference_area.nc\"\n",
    "mask_path = None"
   ]
  },
  {
   "cell_type": "code",
   "execution_count": 25,
   "metadata": {},
   "outputs": [],
   "source": [
    "finetuned_model = load_finetuned_model(model_output_dir / experiment_name, task_type=task_type)\n",
    "presto_model = PrestoPredictor(\n",
    "    model=finetuned_model,\n",
    "    batch_size=50,\n",
    "    task_type=task_type,\n",
    "    composite_window=composite_window,\n",
    ")\n",
    "\n",
    "predictions = presto_model.predict(inference_file, mask_path=mask_path)\n",
    "predictions_map = reshape_result(predictions, path_to_input_file=inference_file)"
   ]
  },
  {
   "cell_type": "code",
   "execution_count": 32,
   "metadata": {},
   "outputs": [
    {
     "data": {
      "image/png": "[encoded data removed]",
      "text/plain": [
       "<Figure size 1200x500 with 3 Axes>"
      ]
     },
     "metadata": {},
     "output_type": "display_data"
    }
   ],
   "source": [
    "plot_results(prob_map=predictions_map, path_to_input_file=inference_file, task=task_type, ts_index=14)"
   ]
  },
  {
   "cell_type": "code",
   "execution_count": null,
   "metadata": {},
   "outputs": [],
   "source": []
  }
 ],
 "metadata": {
  "kernelspec": {
   "display_name": "agri",
   "language": "python",
   "name": "python3"
  },
  "language_info": {
   "codemirror_mode": {
    "name": "ipython",
    "version": 3
   },
   "file_extension": ".py",
   "mimetype": "text/x-python",
   "name": "python",
   "nbconvert_exporter": "python",
   "pygments_lexer": "ipython3",
   "version": "3.10.0"
  }
 },
 "nbformat": 4,
 "nbformat_minor": 2
}
