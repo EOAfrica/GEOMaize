{
 "cells": [
  {
   "cell_type": "markdown",
   "id": "da87134a-0f8f-45a7-a53d-391ce4c356ec",
   "metadata": {},
   "source": [
    "![EOAfrica_banner.png](media/EOAfrica_banner.svg)\n",
    "\n",
    "Authors:\n",
    "Date\n",
    "Project:\n",
    "\n",
    "# 00 Preparation of data and software"
   ]
  },
  {
   "cell_type": "code",
   "execution_count": 1,
   "id": "43976721-fc3f-423f-bab5-773a47490aa4",
   "metadata": {},
   "outputs": [],
   "source": [
    "# possibility load functions which are used in multiple notebooks from the common directory\n",
    "from common.eopath import get_S1_datapath"
   ]
  },
  {
   "cell_type": "code",
   "execution_count": 2,
   "id": "cafa706b-9616-4264-a499-cfc4f65e0b5d",
   "metadata": {},
   "outputs": [
    {
     "data": {
      "text/plain": [
       "'data/s1'"
      ]
     },
     "execution_count": 2,
     "metadata": {},
     "output_type": "execute_result"
    }
   ],
   "source": [
    "get_S1_datapath()"
   ]
  }
 ],
 "metadata": {
  "kernelspec": {
   "display_name": "pyeoaf",
   "language": "python",
   "name": "pyeoaf"
  },
  "language_info": {
   "codemirror_mode": {
    "name": "ipython",
    "version": 3
   },
   "file_extension": ".py",
   "mimetype": "text/x-python",
   "name": "python",
   "nbconvert_exporter": "python",
   "pygments_lexer": "ipython3",
   "version": "3.12.7"
  }
 },
 "nbformat": 4,
 "nbformat_minor": 5
}
